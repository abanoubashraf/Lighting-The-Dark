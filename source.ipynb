import os
import tensorflow as tf
from tensorflow import keras
from keras.models import Model
from PIL import Image
import cv2
import numpy as np
import time


#import input image to colab
!wget "https://i.ibb.co/2WrL743/IMG20210210195710.jpg" -O inputImg.jpg


#Read input image
img_size = 512
path = "inputImg.jpg"

OriginalImage = cv2.imread(path, cv2.IMREAD_COLOR)
OriginalImage = cv2.resize(OriginalImage, (img_size, img_size), interpolation = cv2.INTER_AREA)


%%html
<iframe src="https://drive.google.com/file/d/1B0qwK-43YHQ08nrZE0Ml4LnX5PfgBveM/preview" width="640" height="480" allow="autoplay"></iframe>


def saveImage(Img, imagName):
  inRGBImage = Img.astype(np.uint8)
  inRGBImage = Image.fromarray(inRGBImage, 'RGB')
  b, g, r = inRGBImage.split()
  inRGBImage = Image.merge("RGB", (r, g, b))
  inRGBImage.save(imagName)
  
  
!git clone https://github.com/abanoubashraf/Lighting-The-Dark.git

model = keras.Model()

# save input image
saveImage(OriginalImage, 'input.jpg')

#run Enhancement
if os.path.exists(root):
  model = keras.models.load_model(root)

try:
  inputImage = cv2.resize(OriginalImage, (img_size, img_size), interpolation = cv2.INTER_AREA)
  EditedImage = model.predict(np.array([OriginalImage]))[0]
  for j in range(len(EditedImage)):
    for k in range(len(EditedImage[i])):
      if inputImage[j,k,0] > EditedImage[j,k,0] and inputImage[j,k,1] > EditedImage[j,k,1] and inputImage[j,k,2] > EditedImage[j,k,2]:
        EditedImage[j,k] = inputImage[j,k]
  end_time = time.perf_counter()
  print("time taken: " + str(end_time - start_time))
except:
  print("An exception occurred")
    
# save output image
saveImage(EditedImage, 'output.jpg')

print("Done Successfully!")


