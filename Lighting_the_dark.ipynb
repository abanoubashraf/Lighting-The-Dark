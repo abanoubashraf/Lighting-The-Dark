{
  "nbformat": 4,
  "nbformat_minor": 0,
  "metadata": {
    "colab": {
      "name": "Lighting the dark.ipynb",
      "provenance": [],
      "collapsed_sections": [],
      "include_colab_link": true
    },
    "kernelspec": {
      "name": "python3",
      "display_name": "Python 3"
    },
    "language_info": {
      "name": "python"
    },
    "accelerator": "GPU"
  },
  "cells": [
    {
      "cell_type": "markdown",
      "metadata": {
        "id": "view-in-github",
        "colab_type": "text"
      },
      "source": [
        "<a href=\"https://colab.research.google.com/github/abanoubashraf/Lighting-The-Dark/blob/main/Lighting_the_dark.ipynb\" target=\"_parent\"><img src=\"https://colab.research.google.com/assets/colab-badge.svg\" alt=\"Open In Colab\"/></a>"
      ]
    },
    {
      "cell_type": "code",
      "metadata": {
        "id": "HvqXEhYwCAc2"
      },
      "source": [
        "import os\n",
        "import tensorflow as tf\n",
        "from tensorflow import keras\n",
        "from keras.models import Model\n",
        "from PIL import Image\n",
        "import cv2\n",
        "import numpy as np\n",
        "import time"
      ],
      "execution_count": null,
      "outputs": []
    },
    {
      "cell_type": "code",
      "metadata": {
        "colab": {
          "base_uri": "https://localhost:8080/"
        },
        "id": "pOk2jGc2WqSr",
        "outputId": "f19dd95a-a3be-43a5-9526-dd8826e968bc"
      },
      "source": [
        "#import input image to colab\n",
        "!wget \"https://i.ibb.co/2WrL743/IMG20210210195710.jpg\" -O inputImg.jpg"
      ],
      "execution_count": null,
      "outputs": [
        {
          "output_type": "stream",
          "text": [
            "--2021-08-29 16:42:47--  https://i.ibb.co/2WrL743/IMG20210210195710.jpg\n",
            "Resolving i.ibb.co (i.ibb.co)... 172.96.140.18, 104.194.8.196\n",
            "Connecting to i.ibb.co (i.ibb.co)|172.96.140.18|:443... connected.\n",
            "HTTP request sent, awaiting response... 200 OK\n",
            "Length: 136795 (134K) [image/jpeg]\n",
            "Saving to: ‘inputImg.jpg’\n",
            "\n",
            "inputImg.jpg        100%[===================>] 133.59K   744KB/s    in 0.2s    \n",
            "\n",
            "2021-08-29 16:42:47 (744 KB/s) - ‘inputImg.jpg’ saved [136795/136795]\n",
            "\n"
          ],
          "name": "stdout"
        }
      ]
    },
    {
      "cell_type": "code",
      "metadata": {
        "id": "b_Ok8STxCid1"
      },
      "source": [
        "#Read input image\n",
        "img_size = 512\n",
        "path = \"inputImg.jpg\"\n",
        "\n",
        "OriginalImage = cv2.imread(path, cv2.IMREAD_COLOR)\n",
        "OriginalImage = cv2.resize(OriginalImage, (img_size, img_size), interpolation = cv2.INTER_AREA)"
      ],
      "execution_count": null,
      "outputs": []
    },
    {
      "cell_type": "code",
      "metadata": {
        "id": "mvCLLagbzTly",
        "colab": {
          "base_uri": "https://localhost:8080/",
          "height": 504
        },
        "outputId": "ea270f6c-9c05-45c5-a27e-0f1d79ba68b3"
      },
      "source": [
        "%%html\n",
        "<iframe src=\"https://drive.google.com/file/d/1B0qwK-43YHQ08nrZE0Ml4LnX5PfgBveM/preview\" width=\"640\" height=\"480\" allow=\"autoplay\"></iframe>\n"
      ],
      "execution_count": null,
      "outputs": [
        {
          "output_type": "display_data",
          "data": {
            "text/html": [
              "<iframe src=\"https://drive.google.com/file/d/1B0qwK-43YHQ08nrZE0Ml4LnX5PfgBveM/preview\" width=\"640\" height=\"480\" allow=\"autoplay\"></iframe>"
            ],
            "text/plain": [
              "<IPython.core.display.HTML object>"
            ]
          },
          "metadata": {}
        }
      ]
    },
    {
      "cell_type": "code",
      "metadata": {
        "id": "SNpSYhCiTLMj"
      },
      "source": [
        "def saveImage(Img, imagName):\n",
        "  inRGBImage = Img.astype(np.uint8)\n",
        "  inRGBImage = Image.fromarray(inRGBImage, 'RGB')\n",
        "  b, g, r = inRGBImage.split()\n",
        "  inRGBImage = Image.merge(\"RGB\", (r, g, b))\n",
        "  inRGBImage.save(imagName)"
      ],
      "execution_count": null,
      "outputs": []
    },
    {
      "cell_type": "code",
      "metadata": {
        "id": "csiRqEt8CJ4U",
        "colab": {
          "base_uri": "https://localhost:8080/",
          "height": 265
        },
        "outputId": "67926e0c-f50d-46f0-900a-dd5e160f56d4"
      },
      "source": [
        "!git clone https://github.com/abanoubashraf/Lighting-The-Dark.git\n",
        "\n",
        "model = keras.Model()\n",
        "\n",
        "# save input image\n",
        "saveImage(OriginalImage, 'input.jpg')\n",
        "\n",
        "#run Enhancement\n",
        "if os.path.exists(root):\n",
        "  model = keras.models.load_model(root)\n",
        "\n",
        "try:\n",
        "  inputImage = cv2.resize(OriginalImage, (img_size, img_size), interpolation = cv2.INTER_AREA)\n",
        "  EditedImage = model.predict(np.array([OriginalImage]))[0]\n",
        "  for j in range(len(EditedImage)):\n",
        "    for k in range(len(EditedImage[i])):\n",
        "      if inputImage[j,k,0] > EditedImage[j,k,0] and inputImage[j,k,1] > EditedImage[j,k,1] and inputImage[j,k,2] > EditedImage[j,k,2]:\n",
        "        EditedImage[j,k] = inputImage[j,k]\n",
        "  end_time = time.perf_counter()\n",
        "  print(\"time taken: \" + str(end_time - start_time))\n",
        "except:\n",
        "  print(\"An exception occurred\")\n",
        "    \n",
        "# save output image\n",
        "saveImage(EditedImage, 'output.jpg')\n",
        "\n",
        "\n",
        "print(\"Done Successfully!\")"
      ],
      "execution_count": null,
      "outputs": [
        {
          "output_type": "stream",
          "text": [
            "An exception occurred\n"
          ],
          "name": "stdout"
        },
        {
          "output_type": "error",
          "ename": "NameError",
          "evalue": "ignored",
          "traceback": [
            "\u001b[0;31m---------------------------------------------------------------------------\u001b[0m",
            "\u001b[0;31mNameError\u001b[0m                                 Traceback (most recent call last)",
            "\u001b[0;32m<ipython-input-12-eb8554cf2012>\u001b[0m in \u001b[0;36m<module>\u001b[0;34m()\u001b[0m\n\u001b[1;32m     23\u001b[0m \u001b[0;34m\u001b[0m\u001b[0m\n\u001b[1;32m     24\u001b[0m \u001b[0;31m# save output image\u001b[0m\u001b[0;34m\u001b[0m\u001b[0;34m\u001b[0m\u001b[0;34m\u001b[0m\u001b[0m\n\u001b[0;32m---> 25\u001b[0;31m \u001b[0msaveImage\u001b[0m\u001b[0;34m(\u001b[0m\u001b[0mEditedImage\u001b[0m\u001b[0;34m,\u001b[0m \u001b[0;34m'output.jpg'\u001b[0m\u001b[0;34m)\u001b[0m\u001b[0;34m\u001b[0m\u001b[0;34m\u001b[0m\u001b[0m\n\u001b[0m\u001b[1;32m     26\u001b[0m \u001b[0;34m\u001b[0m\u001b[0m\n\u001b[1;32m     27\u001b[0m \u001b[0;34m\u001b[0m\u001b[0m\n",
            "\u001b[0;31mNameError\u001b[0m: name 'EditedImage' is not defined"
          ]
        }
      ]
    }
  ]
}